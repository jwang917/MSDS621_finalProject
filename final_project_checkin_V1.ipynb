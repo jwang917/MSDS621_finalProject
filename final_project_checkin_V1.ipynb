{
 "cells": [
  {
   "cell_type": "markdown",
   "metadata": {},
   "source": [
    "# Final Project Check-in 2018-11-16"
   ]
  },
  {
   "cell_type": "markdown",
   "metadata": {},
   "source": [
    "## Group Name: Lambda"
   ]
  },
  {
   "cell_type": "markdown",
   "metadata": {},
   "source": [
    "### Student Names\n",
    "1. Jian Wang\n",
    "2. Chong Geng\n",
    "3. Alan Perry\n",
    "4. Divya Bhargavi\n",
    "5. Robert Sandor"
   ]
  },
  {
   "cell_type": "markdown",
   "metadata": {},
   "source": [
    "## Load Data"
   ]
  },
  {
   "cell_type": "code",
   "execution_count": 1,
   "metadata": {},
   "outputs": [],
   "source": [
    "from math import sqrt\n",
    "from matplotlib import pyplot as plt\n",
    "import pandas as pd\n",
    "import numpy as np\n",
    "import nltk\n",
    "from nltk.stem.porter import PorterStemmer\n",
    "import operator\n",
    "import re\n",
    "from scipy import spatial\n",
    "from sklearn.feature_extraction import stop_words\n",
    "from sklearn.feature_extraction import stop_words\n",
    "from sklearn.feature_extraction.text import TfidfVectorizer\n",
    "from sklearn.svm import SVR\n",
    "from sklearn.linear_model import LinearRegression\n",
    "from sklearn.metrics import mean_squared_error\n",
    "from sklearn.model_selection import train_test_split\n",
    "import string\n",
    "import time"
   ]
  },
  {
   "cell_type": "code",
   "execution_count": 2,
   "metadata": {},
   "outputs": [],
   "source": [
    "def feature_engineering(train_df, products_df):\n",
    "    \"\"\"\n",
    "    Adds the following features to the training set dataframe: \n",
    "    clean_length (the number of words in the 'cleaned' search terms)\n",
    "    title_length (the number of words in the 'cleaned' title)\n",
    "    desc_length (the number of words in the 'cleaned' description)\n",
    "    clean_terms_in_title (the number of time \n",
    "    any of the words in clean_terms appears in the title)\n",
    "    clean_terms_in_desc (the number of time \n",
    "    any of the words in clean_terms appears in the description)\n",
    "    \"\"\"\n",
    "    # join the dataframes together\n",
    "    train_df = train_df.set_index('product_uid').join(products_df.set_index('product_uid'))\n",
    "    train_df = train_df.reset_index()\n",
    "    \n",
    "    # \"clean\" the search terms of numbers and stop words\n",
    "    search_terms = train_df['search_term']\n",
    "    cleaned_terms = [' '.join(tokenize(search_term)) for search_term in search_terms]\n",
    "    train_df['cleaned_terms'] = cleaned_terms\n",
    "    \n",
    "    cleaned = list(train_df['cleaned_terms'])\n",
    "    title = list(train_df['product_title'])\n",
    "    desc = list(train_df['product_description'])\n",
    "\n",
    "    \n",
    "    # create the features to be used in the model\n",
    "    train_df['clean_length'] = get_length(cleaned)\n",
    "    train_df['title_length'] = get_length(title)\n",
    "    train_df['desc_length'] = get_length(desc)\n",
    "    train_df['clean_terms_in_title'] = clean_term_in_doc(cleaned, title)\n",
    "    train_df['clean_terms_in_desc'] = clean_term_in_doc(cleaned, desc)\n",
    "    \n",
    "    return train_df\n",
    "\n",
    "def clean_term_in_doc(terms:list, title:list):\n",
    "    \"\"\"\n",
    "    This cleans the given terms  in the specified document\n",
    "    \"\"\"\n",
    "    count=np.zeros(len(terms))\n",
    "    for i in range(len(terms)):\n",
    "        if not pd.isnull(terms[i]): \n",
    "            title[i]=title[i].lower()\n",
    "            for term in terms[i].split(' '):\n",
    "                if term in title[i].split(' '):\n",
    "                    count[i]+=1\n",
    "    return count\n",
    "\n",
    "def get_length(column):\n",
    "    \"\"\"\n",
    "    This calculates and returns the number of words\n",
    "    for each row in a specified column\n",
    "    \"\"\"\n",
    "    length = np.zeros(len(column))\n",
    "    for index in range(len(column)):\n",
    "        if not pd.isnull(column[index]):\n",
    "            length[index] = len(column[index].split(' '))\n",
    "    return length\n",
    "\n",
    "def tokenize(text):\n",
    "    \"\"\"\n",
    "    Tokenize text and return a non-unique list of tokenized words\n",
    "    found in the text. Normalize to lowercase, strip punctuation,\n",
    "    remove stop words, drop words of length < 3, strip digits.\n",
    "    \"\"\"\n",
    "    stops = list(stop_words.ENGLISH_STOP_WORDS)\n",
    "    text = text.lower()\n",
    "    regex = re.compile('[' + re.escape(string.punctuation) + '0-9\\\\r\\\\t\\\\n]')\n",
    "    nopunct = regex.sub(\" \", text)  # delete stuff but leave at least a space to avoid clumping together\n",
    "    words = nopunct.split(\" \")\n",
    "    words = [w for w in words if (len(w) > 2 and (w not in stops))]  # ignore a, an, to, at, be, ...\n",
    "    return words\n",
    "\n",
    "def make_dictionary(file):\n",
    "    '''\n",
    "    Initiate the glove model as a dictionary\n",
    "    input: A String which is a file in the project directory\n",
    "    returns: A dictionary with item = word : 300 d list\n",
    "    '''\n",
    "    vecs = dict()\n",
    "    with open(file) as f:\n",
    "        lines = f.readlines()\n",
    "        for word_and_vec in lines:\n",
    "            elems = word_and_vec.strip().split(' ')\n",
    "            word = elems[0]\n",
    "            vec = np.array(elems[1:], dtype=float)\n",
    "            vecs[word] = vec\n",
    "    return vecs"
   ]
  },
  {
   "cell_type": "code",
   "execution_count": 3,
   "metadata": {},
   "outputs": [],
   "source": [
    "products = pd.read_csv('product_descriptions.csv')\n",
    "train = pd.read_csv('train.csv', encoding='ISO-8859-1')\n",
    "\n",
    "glove_file = 'glove.6B.300d.txt'\n",
    "glove_dic = make_dictionary(glove_file)\n",
    "\n",
    "modified_train = feature_engineering(train, products)"
   ]
  },
  {
   "cell_type": "markdown",
   "metadata": {},
   "source": [
    "## Fit scikit-learn model"
   ]
  },
  {
   "cell_type": "code",
   "execution_count": 4,
   "metadata": {},
   "outputs": [],
   "source": [
    "X_train = modified_train[['clean_length', 'title_length', 'desc_length', 'clean_terms_in_title', 'clean_terms_in_desc']]\n",
    "y_train = modified_train[['relevance']]"
   ]
  },
  {
   "cell_type": "code",
   "execution_count": 5,
   "metadata": {},
   "outputs": [],
   "source": [
    "# since we can't see the relevancy scores of the test set,\n",
    "# I decided to split the training set \n",
    "train_data, test_data, train_target, test_target = train_test_split(X_train,\n",
    "                                                                        y_train,\n",
    "                                                                        random_state=42)"
   ]
  },
  {
   "cell_type": "code",
   "execution_count": 6,
   "metadata": {},
   "outputs": [
    {
     "data": {
      "text/plain": [
       "LinearRegression(copy_X=True, fit_intercept=True, n_jobs=1, normalize=False)"
      ]
     },
     "execution_count": 6,
     "metadata": {},
     "output_type": "execute_result"
    }
   ],
   "source": [
    "lin_reg_model = LinearRegression()\n",
    "lin_reg_model.fit(train_data, train_target)"
   ]
  },
  {
   "cell_type": "code",
   "execution_count": 7,
   "metadata": {},
   "outputs": [
    {
     "name": "stdout",
     "output_type": "stream",
     "text": [
      "[[2.12242751]\n",
      " [2.35407144]\n",
      " [2.41228688]\n",
      " [2.67291117]\n",
      " [2.66110063]]\n",
      "       relevance\n",
      "13534       3.00\n",
      "29748       2.67\n",
      "20225       2.67\n",
      "5169        2.67\n",
      "49860       2.00\n"
     ]
    }
   ],
   "source": [
    "predicted = lin_reg_model.predict(test_data)\n",
    "print(predicted[:5])\n",
    "print(test_target[:5])"
   ]
  },
  {
   "cell_type": "markdown",
   "metadata": {},
   "source": [
    "## Evaluation Metric"
   ]
  },
  {
   "cell_type": "code",
   "execution_count": 8,
   "metadata": {},
   "outputs": [
    {
     "data": {
      "text/plain": [
       "0.5123979817392255"
      ]
     },
     "execution_count": 8,
     "metadata": {},
     "output_type": "execute_result"
    }
   ],
   "source": [
    "# since an RMSE function couldn't be found quickly in the sklearn library,\n",
    "# we just used the MSE function and took the square root of that\n",
    "rmse_lin_reg = sqrt(mean_squared_error(predicted, test_target))\n",
    "\n",
    "# this value is equivalent to rank 1756 on the Kaggle leaderboard for this competition\n",
    "# the benchmark was ~ rank 1680 \n",
    "rmse_lin_reg"
   ]
  }
 ],
 "metadata": {
  "kernelspec": {
   "display_name": "Python 3",
   "language": "python",
   "name": "python3"
  },
  "language_info": {
   "codemirror_mode": {
    "name": "ipython",
    "version": 3
   },
   "file_extension": ".py",
   "mimetype": "text/x-python",
   "name": "python",
   "nbconvert_exporter": "python",
   "pygments_lexer": "ipython3",
   "version": "3.7.0"
  }
 },
 "nbformat": 4,
 "nbformat_minor": 2
}
